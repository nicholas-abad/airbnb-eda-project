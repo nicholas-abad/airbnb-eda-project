{
 "cells": [
  {
   "cell_type": "markdown",
   "id": "5062f88e",
   "metadata": {},
   "source": [
    "## Introduction\n",
    "Here's an introduction"
   ]
  },
  {
   "cell_type": "code",
   "execution_count": 1,
   "id": "cb10703e",
   "metadata": {},
   "outputs": [],
   "source": [
    "import pandas as pd\n",
    "\n",
    "data = pd.DataFrame()"
   ]
  },
  {
   "cell_type": "markdown",
   "id": "f7131060",
   "metadata": {},
   "source": [
    "## Section 2"
   ]
  },
  {
   "cell_type": "code",
   "execution_count": null,
   "id": "9d91a83b",
   "metadata": {},
   "outputs": [],
   "source": []
  }
 ],
 "metadata": {
  "kernelspec": {
   "display_name": "Python 3 (ipykernel)",
   "language": "python",
   "name": "python3"
  },
  "language_info": {
   "codemirror_mode": {
    "name": "ipython",
    "version": 3
   },
   "file_extension": ".py",
   "mimetype": "text/x-python",
   "name": "python",
   "nbconvert_exporter": "python",
   "pygments_lexer": "ipython3",
   "version": "3.9.13"
  }
 },
 "nbformat": 4,
 "nbformat_minor": 5
}
